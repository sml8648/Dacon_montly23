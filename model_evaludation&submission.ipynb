{
 "cells": [
  {
   "cell_type": "code",
   "execution_count": 75,
   "id": "fd60459b",
   "metadata": {},
   "outputs": [],
   "source": [
    "import pandas as pd\n",
    "import numpy as np"
   ]
  },
  {
   "cell_type": "code",
   "execution_count": 76,
   "id": "c62d1c60",
   "metadata": {},
   "outputs": [],
   "source": [
    "import matplotlib.pyplot as plt\n",
    "import matplotlib as mpl\n",
    "import seaborn as sns\n",
    "color = sns.color_palette()\n",
    "\n",
    "%matplotlib inline"
   ]
  },
  {
   "cell_type": "code",
   "execution_count": 77,
   "id": "66773ade",
   "metadata": {},
   "outputs": [],
   "source": [
    "import torch\n",
    "import torch.nn as nn\n",
    "from tqdm import tqdm\n",
    "\n",
    "from model import AutoEncoder\n",
    "from model import AutoEncoder_2\n",
    "from sklearn.metrics import f1_score\n",
    "from sklearn.metrics import precision_recall_curve, average_precision_score"
   ]
  },
  {
   "cell_type": "markdown",
   "id": "48f57792",
   "metadata": {},
   "source": [
    "# model load"
   ]
  },
  {
   "cell_type": "code",
   "execution_count": 103,
   "id": "383e6249",
   "metadata": {},
   "outputs": [
    {
     "data": {
      "text/plain": [
       "AutoEncoder_2(\n",
       "  (Encoder): Sequential(\n",
       "    (0): Linear(in_features=30, out_features=64, bias=True)\n",
       "    (1): BatchNorm1d(64, eps=1e-05, momentum=0.1, affine=True, track_running_stats=True)\n",
       "    (2): LeakyReLU(negative_slope=0.01)\n",
       "    (3): Linear(in_features=64, out_features=128, bias=True)\n",
       "    (4): BatchNorm1d(128, eps=1e-05, momentum=0.1, affine=True, track_running_stats=True)\n",
       "    (5): LeakyReLU(negative_slope=0.01)\n",
       "  )\n",
       "  (Decoder): Sequential(\n",
       "    (0): Linear(in_features=128, out_features=64, bias=True)\n",
       "    (1): BatchNorm1d(64, eps=1e-05, momentum=0.1, affine=True, track_running_stats=True)\n",
       "    (2): LeakyReLU(negative_slope=0.01)\n",
       "    (3): Linear(in_features=64, out_features=30, bias=True)\n",
       "  )\n",
       ")"
      ]
     },
     "execution_count": 103,
     "metadata": {},
     "output_type": "execute_result"
    }
   ],
   "source": [
    "# model load\n",
    "state_dicts = torch.load('autoencoder2_more_batch_epoch_l1.pt')\n",
    "model = AutoEncoder_2()\n",
    "model.load_state_dict(state_dicts['model'])\n",
    "model.eval()"
   ]
  },
  {
   "cell_type": "markdown",
   "id": "3c390785",
   "metadata": {},
   "source": [
    "# Functions"
   ]
  },
  {
   "cell_type": "code",
   "execution_count": 104,
   "id": "b2ffd6d6",
   "metadata": {},
   "outputs": [],
   "source": [
    "# function for finding best threshold\n",
    "def search_threshold(loss_result,val,threshold=None):\n",
    "    \n",
    "    y_pred = np.where(loss_result > threshold,1,0)\n",
    "    y_true = val.Class\n",
    "    \n",
    "    result = f1_score(y_true, y_pred, average='macro')\n",
    "    \n",
    "    return result, threshold"
   ]
  },
  {
   "cell_type": "code",
   "execution_count": 105,
   "id": "1d224631",
   "metadata": {},
   "outputs": [],
   "source": [
    "# draw recall&precision\n",
    "def draw_graph(y_true, y_pred):\n",
    "    precision, recall, thresholds = precision_recall_curve(y_true, y_pred)\n",
    "    average_precision = average_precision_score(y_true, y_pred)\n",
    "    \n",
    "    plt.step(recall, precision, color='k', alpha=0.7, where='post')\n",
    "    plt.fill_between(recall, precision, step='post', alpha=0.3, color='k')\n",
    "\n",
    "    plt.xlabel('Recall')\n",
    "    plt.ylabel('Precision')\n",
    "    plt.ylim([0.0, 1.05])\n",
    "    plt.xlim([0.0, 1.0])\n",
    "\n",
    "    plt.title('Precision-Recall curve: Average Precision = {0:0.2f}'.format(\n",
    "              average_precision))"
   ]
  },
  {
   "cell_type": "markdown",
   "id": "82fc4009",
   "metadata": {},
   "source": [
    "# Finding best parameters"
   ]
  },
  {
   "cell_type": "code",
   "execution_count": 111,
   "id": "835b3b06",
   "metadata": {},
   "outputs": [
    {
     "name": "stderr",
     "output_type": "stream",
     "text": [
      "100%|███████████████████████████████████████████████████████████████████████████| 10000/10000 [00:51<00:00, 195.72it/s]\n"
     ]
    }
   ],
   "source": [
    "# finding best threshold and f1_score\n",
    "\n",
    "best_f1_score = 0\n",
    "best_threshold = 0\n",
    "\n",
    "val = pd.read_csv('./data/val.csv')\n",
    "y_true = val.Class\n",
    "\n",
    "validation = val.iloc[:,1:-1]\n",
    "val_tensor = torch.tensor(validation.values, dtype=torch.float32)\n",
    "val_result = model(val_tensor)\n",
    "    \n",
    "loss_result = abs(val_result - val_tensor).mean(axis=1)\n",
    "\n",
    "for threshold in tqdm(np.linspace(min(loss_result).detach().numpy(),max(loss_result).detach().numpy(),10000)):\n",
    "    \n",
    "    tmp_score, threshold = search_threshold(loss_result,val,threshold)\n",
    "    \n",
    "    if tmp_score > best_f1_score:\n",
    "        best_f1_score = tmp_score\n",
    "        best_threshold = threshold\n"
   ]
  },
  {
   "cell_type": "markdown",
   "id": "32b6fdaf",
   "metadata": {},
   "source": [
    "# Check results"
   ]
  },
  {
   "cell_type": "code",
   "execution_count": 112,
   "id": "998082fd",
   "metadata": {},
   "outputs": [
    {
     "data": {
      "text/plain": [
       "0.8085948815997485"
      ]
     },
     "execution_count": 112,
     "metadata": {},
     "output_type": "execute_result"
    }
   ],
   "source": [
    "best_f1_score"
   ]
  },
  {
   "cell_type": "code",
   "execution_count": 113,
   "id": "4839e67f",
   "metadata": {},
   "outputs": [
    {
     "data": {
      "text/plain": [
       "0.9304122186586945"
      ]
     },
     "execution_count": 113,
     "metadata": {},
     "output_type": "execute_result"
    }
   ],
   "source": [
    "best_threshold"
   ]
  },
  {
   "cell_type": "code",
   "execution_count": 118,
   "id": "289faae9",
   "metadata": {},
   "outputs": [],
   "source": [
    "y_pred = np.where(loss_result > best_threshold,1,0)"
   ]
  },
  {
   "cell_type": "code",
   "execution_count": 119,
   "id": "e8de5bd0",
   "metadata": {},
   "outputs": [
    {
     "data": {
      "image/png": "[encoded data removed]",
      "text/plain": [
       "<Figure size 432x288 with 1 Axes>"
      ]
     },
     "metadata": {
      "needs_background": "light"
     },
     "output_type": "display_data"
    }
   ],
   "source": [
    "draw_graph(y_true,y_pred)"
   ]
  },
  {
   "cell_type": "markdown",
   "id": "65c5a4ea",
   "metadata": {},
   "source": [
    "# Submission"
   ]
  },
  {
   "cell_type": "code",
   "execution_count": 64,
   "id": "902394ff",
   "metadata": {},
   "outputs": [],
   "source": [
    "test = pd.read_csv('./data/test.csv')"
   ]
  },
  {
   "cell_type": "code",
   "execution_count": 65,
   "id": "6ef0c042",
   "metadata": {},
   "outputs": [],
   "source": [
    "test = test.iloc[:,1:]\n",
    "test_tensor = torch.tensor(test.values, dtype=torch.float32)\n",
    "test_result = model(test_tensor)\n",
    "loss_result = abs(test_result - test_tensor).mean(axis=1)\n",
    "    \n",
    "y_pred = np.where(loss_result > best_threshold,1,0)"
   ]
  },
  {
   "cell_type": "code",
   "execution_count": 67,
   "id": "2f85ce1a",
   "metadata": {},
   "outputs": [],
   "source": [
    "submission = pd.read_csv('./data/sample_submission.csv')"
   ]
  },
  {
   "cell_type": "code",
   "execution_count": 68,
   "id": "4ab7cda8",
   "metadata": {},
   "outputs": [],
   "source": [
    "submission['Class'] = y_pred"
   ]
  },
  {
   "cell_type": "code",
   "execution_count": 69,
   "id": "2244eb38",
   "metadata": {},
   "outputs": [],
   "source": [
    "submission.to_csv('submission.csv',index=False)"
   ]
  },
  {
   "cell_type": "code",
   "execution_count": null,
   "id": "e479567a",
   "metadata": {},
   "outputs": [],
   "source": []
  }
 ],
 "metadata": {
  "kernelspec": {
   "display_name": "test_env",
   "language": "python",
   "name": "test_env"
  },
  "language_info": {
   "codemirror_mode": {
    "name": "ipython",
    "version": 3
   },
   "file_extension": ".py",
   "mimetype": "text/x-python",
   "name": "python",
   "nbconvert_exporter": "python",
   "pygments_lexer": "ipython3",
   "version": "3.7.13"
  }
 },
 "nbformat": 4,
 "nbformat_minor": 5
}
